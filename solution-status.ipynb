{
  "nbformat": 4,
  "nbformat_minor": 0,
  "metadata": {
    "colab": {
      "name": "Untitled0.ipynb",
      "provenance": [],
      "collapsed_sections": []
    },
    "kernelspec": {
      "name": "python3",
      "display_name": "Python 3"
    }
  },
  "cells": [
    {
      "cell_type": "code",
      "execution_count": 5,
      "metadata": {},
      "outputs": [],
      "source": [
        "import os\n",
        "import json\n",
        "import pandas as pd\n",
        "\n",
        "students = (\n",
        "  'mateus.pedro',\n",
        "  'vinicius.accioly',\n",
        "  'richard.sidney',\n",
        "  'joab.ferreira',\n",
        "  'ernandez.santos',\n",
        "  'maria.rebeca',\n",
        "  'hugo.oliveira',\n",
        "  'pablo.camilo',\n",
        "  'marcelo.junior',\n",
        "  'fernando.viana'\n",
        ")\n",
        "categories = ('back-end', 'front-end')\n",
        "status = {}\n",
        "\n",
        "for student in students:\n",
        "  status[student] = {}\n",
        "  for category in categories:\n",
        "    subcategories = [ name for name in os.listdir(category) if os.path.isdir(os.path.join(category, name)) ]\n",
        "    for subcategory in subcategories:\n",
        "      path = f'{category}/{subcategory}'\n",
        "      problems = [ name for name in os.listdir(path) if os.path.isdir(os.path.join(path, name)) ]\n",
        "      # if '.DS_Store' in problems: problems.remove('.DS_Store')\n",
        "      for problem in problems:\n",
        "        path = f'{category}/{subcategory}/{problem}/{student}'\n",
        "        status[student][f'{category}/{subcategory}/{problem}'] = os.path.isdir(path)\n",
        "\n",
        "df = pd.DataFrame(status)"
      ]
    },
    {
      "cell_type": "code",
      "execution_count": 6,
      "metadata": {},
      "outputs": [
        {
          "data": {
            "text/plain": "maria.rebeca        9\npablo.camilo        8\nvinicius.accioly    8\nmateus.pedro        8\njoab.ferreira       7\nernandez.santos     6\nfernando.viana      5\nhugo.oliveira       5\nmarcelo.junior      2\nrichard.sidney      2\ndtype: int64"
          },
          "execution_count": 6,
          "metadata": {},
          "output_type": "execute_result"
        }
      ],
      "source": [
        "df[df==True].count(axis=0).sort_values(ascending=False)"
      ]
    },
    {
      "cell_type": "code",
      "execution_count": 7,
      "metadata": {},
      "outputs": [
        {
          "data": {
            "text/plain": "front-end/packages/bootstrap-glances              0\nfront-end/style/box-model                         0\nfront-end/packages/bootstrap-gentellela-panels    0\nfront-end/packages/bootstrap-pingdom-monitor      0\nfront-end/packages/bootstrap-ample-admin          0\nfront-end/packages/bootstrap-host-monitor         0\nfront-end/packages/bootstrap-ez-server-monitor    0\nfront-end/packages/bootstrap-dashboard-monitor    0\nfront-end/style/selector                          3\nfront-end/style/text-simple                       3\nfront-end/packages/bootstrap-hello-world          3\nfront-end/packages/bootstrap-glass-isc-dhcp       4\nfront-end/style/man-ping-style                    5\nfront-end/style/curriculum-vitae                  7\nfront-end/structure/man-ping                      8\nfront-end/style/hello-world-css                   9\nfront-end/packages/bootstrap-start-template       9\nfront-end/structure/first-web-page                9\ndtype: int64"
          },
          "execution_count": 7,
          "metadata": {},
          "output_type": "execute_result"
        }
      ],
      "source": [
        "df[df==True].count(axis=1).sort_values(ascending=True)"
      ]
    },
    {
      "cell_type": "code",
      "execution_count": 8,
      "metadata": {},
      "outputs": [
        {
          "name": "stdout",
          "output_type": "stream",
          "text": "60\n"
        }
      ],
      "source": [
        "print(df[df==True].count().sum())"
      ]
    }
  ]
}